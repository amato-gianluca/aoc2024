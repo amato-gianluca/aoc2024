{
 "cells": [
  {
   "cell_type": "markdown",
   "metadata": {},
   "source": [
    "This notebook compares two implementation of the solution for Day 11. One is completely recursive, and one mixes recursion and iteration."
   ]
  },
  {
   "cell_type": "markdown",
   "metadata": {},
   "source": [
    "Here is the solution mixing iteration and recursion. Note that in the `blink` function we iterates on the number of steps, but recurse on the newly spawned stone. "
   ]
  },
  {
   "cell_type": "code",
   "execution_count": 1,
   "metadata": {},
   "outputs": [
    {
     "name": "stdout",
     "output_type": "stream",
     "text": [
      "part 1: 216996\n",
      "part 2: 257335372288947\n"
     ]
    }
   ],
   "source": [
    "import functools\n",
    "\n",
    "def read_line(filename: str) -> list[int]:\n",
    "    with open(filename) as f:\n",
    "        l = list(map(int, f.readline().split()))\n",
    "    return l\n",
    "\n",
    "@functools.cache\n",
    "def blink(x: int, n: int) -> int:\n",
    "    \"\"\"\n",
    "    Blink a single stone x for n times, and return the final number of stones.\n",
    "    \"\"\"\n",
    "    total = 1\n",
    "    for i in range(n):\n",
    "        if x == 0:\n",
    "            x = 1\n",
    "        elif (sizex := len(str(x))) % 2 == 0:\n",
    "            pow = 10 ** (sizex // 2)\n",
    "            total += blink(x % pow, n- i - 1)\n",
    "            x = x // pow\n",
    "        else:\n",
    "            x *= 2024\n",
    "    return total\n",
    "\n",
    "def blink_line(l: list[int], n: int) -> int:\n",
    "    \"\"\"\n",
    "    Blink the line l for n times, and return the final the number of stones.\n",
    "    \"\"\"\n",
    "    total = 0\n",
    "    for x in l:\n",
    "        total += blink(x,  n)\n",
    "    return total\n",
    "\n",
    "l = read_line(\"input\")\n",
    "print(\"part 1:\", blink_line(l, 25))\n",
    "print(\"part 2:\", blink_line(l, 75))\n"
   ]
  },
  {
   "cell_type": "markdown",
   "metadata": {},
   "source": [
    "Here we measure execution time."
   ]
  },
  {
   "cell_type": "code",
   "execution_count": 2,
   "metadata": {},
   "outputs": [
    {
     "name": "stdout",
     "output_type": "stream",
     "text": [
      "74.3 ms ± 98.9 µs per loop (mean ± std. dev. of 7 runs, 10 loops each)\n"
     ]
    }
   ],
   "source": [
    "%%timeit\n",
    "\n",
    "blink.cache_clear()\n",
    "blink_line(l, 75)"
   ]
  },
  {
   "cell_type": "code",
   "execution_count": 3,
   "metadata": {},
   "outputs": [
    {
     "name": "stdout",
     "output_type": "stream",
     "text": [
      "part 1: 216996\n",
      "part 2: 257335372288947\n"
     ]
    }
   ],
   "source": [
    "import functools\n",
    "\n",
    "@functools.cache\n",
    "def blink2(x: int, n: int) -> int:\n",
    "    \"\"\"\n",
    "    Blink a single stone x for n times, and return the final number of stones.\n",
    "    \"\"\"\n",
    "    if n == 0:\n",
    "        return 1\n",
    "    elif x == 0:\n",
    "        return blink2(1, n-1)\n",
    "    elif (sizex := len(str(x))) % 2 == 0:\n",
    "        pow = 10 ** (sizex // 2)\n",
    "        return blink2(x // pow, n - 1) + blink2(x % pow, n - 1)\n",
    "    else:\n",
    "        return blink2(x * 2024, n-1)\n",
    "\n",
    "def blink_line2(l: list[int], n: int) -> int:\n",
    "    \"\"\"\n",
    "    Blink the line l for n times, and return the final the number of stones.\n",
    "    \"\"\"\n",
    "    total = 0\n",
    "    for x in l:\n",
    "        total += blink2(x,  n)\n",
    "    return total\n",
    "\n",
    "l = read_line(\"input\")\n",
    "print(\"part 1:\", blink_line2(l, 25))\n",
    "print(\"part 2:\", blink_line2(l, 75))\n"
   ]
  },
  {
   "cell_type": "markdown",
   "metadata": {},
   "source": [
    "And this is the execution time of the new version."
   ]
  },
  {
   "cell_type": "code",
   "execution_count": 4,
   "metadata": {},
   "outputs": [
    {
     "name": "stdout",
     "output_type": "stream",
     "text": [
      "28.5 ms ± 278 µs per loop (mean ± std. dev. of 7 runs, 10 loops each)\n"
     ]
    }
   ],
   "source": [
    "%%timeit\n",
    "\n",
    "blink2.cache_clear()\n",
    "blink_line2(l, 75)"
   ]
  },
  {
   "cell_type": "markdown",
   "metadata": {},
   "source": [
    "Let's compare the size of the caches:"
   ]
  },
  {
   "cell_type": "code",
   "execution_count": 5,
   "metadata": {},
   "outputs": [
    {
     "data": {
      "text/plain": [
       "CacheInfo(hits=322243, misses=33021, maxsize=None, currsize=33021)"
      ]
     },
     "execution_count": 5,
     "metadata": {},
     "output_type": "execute_result"
    }
   ],
   "source": [
    "blink.cache_info()"
   ]
  },
  {
   "cell_type": "code",
   "execution_count": 6,
   "metadata": {},
   "outputs": [
    {
     "data": {
      "text/plain": [
       "CacheInfo(hits=58554, misses=111367, maxsize=None, currsize=111367)"
      ]
     },
     "execution_count": 6,
     "metadata": {},
     "output_type": "execute_result"
    }
   ],
   "source": [
    "blink2.cache_info()"
   ]
  }
 ],
 "metadata": {
  "kernelspec": {
   "display_name": "Python 3",
   "language": "python",
   "name": "python3"
  },
  "language_info": {
   "codemirror_mode": {
    "name": "ipython",
    "version": 3
   },
   "file_extension": ".py",
   "mimetype": "text/x-python",
   "name": "python",
   "nbconvert_exporter": "python",
   "pygments_lexer": "ipython3",
   "version": "3.12.3"
  }
 },
 "nbformat": 4,
 "nbformat_minor": 2
}
